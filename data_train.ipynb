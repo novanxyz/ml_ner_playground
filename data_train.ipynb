{
 "cells": [
  {
   "cell_type": "code",
   "execution_count": 1,
   "metadata": {},
   "outputs": [],
   "source": [
    "import pandas as pd\n",
    "import numpy as np\n",
    "\n",
    "# dataframe = pd.read_csv('data_training_alo')\n",
    "file = open('../data/train.iob','r')\n",
    "X = list()\n",
    "Y = list()\n",
    "for word in file:\n",
    "    a = word.replace('\\t',' ').replace('\\n','').split()\n",
    "    if len(a) >= 2:\n",
    "        X.append(a[0])\n",
    "        Y.append(a[1:])# ntar diganti 1:\n",
    "\n",
    "# df = pd.DataFrame({'col':list_})"
   ]
  },
  {
   "cell_type": "code",
   "execution_count": 2,
   "metadata": {},
   "outputs": [
    {
     "name": "stdout",
     "output_type": "stream",
     "text": [
      "11740\n",
      "39\n"
     ]
    }
   ],
   "source": [
    "df_x = pd.DataFrame(X, columns=['word'])\n",
    "df_y = pd.DataFrame(Y, columns=['label','x','y','z'])\n",
    "print(df_x.word.nunique())\n",
    "print(df_y.label.nunique())\n",
    "# print(df_y)"
   ]
  },
  {
   "cell_type": "code",
   "execution_count": 3,
   "metadata": {},
   "outputs": [],
   "source": [
    "label = list()\n",
    "label.append(df_y.label.unique())\n",
    "label.append(df_y.x.unique())\n",
    "label.append(df_y.y.unique())\n",
    "label.append(df_y.z.unique())\n",
    "list_new = list(label[0])\n",
    "for i in label[1:]:\n",
    "    for j in i :\n",
    "        if j not in list_new:\n",
    "            list_new.append(j)"
   ]
  },
  {
   "cell_type": "code",
   "execution_count": 4,
   "metadata": {},
   "outputs": [
    {
     "name": "stdout",
     "output_type": "stream",
     "text": [
      "['O', 'B-DISEASE', 'I-DISEASE', 'B-BBODY', 'I-BBODY', 'B-CHILD', 'I-CHILD', 'B-TREATMENT', 'I-TREATMENT', 'B-SYMPTOM', 'B-SOMEONE', 'I-SOMEONE', 'B-LACTATION', 'I-SYMPTOM', 'B-ACTIVITY', 'I-ACTIVITY', 'B-ANTISYMPTOM', 'I-ANTISYMPTOM', 'B-ADULT', 'I-ADULT', 'B-DURATION', 'I-DURATION', 'B-PROMIL', 'I-PROMIL', 'B-WOMAN', 'B-MAN', 'B-FOOD', 'I-FOOD', 'B-BABY', 'B-TEST', 'B-PREGNANT', 'I-WOMAN', 'I-LACTATION', 'I-TEST', 'I-BABY', 'I-PREGNANT', 'I-MAN', 'B-PRIMARY', 'I-PRIMARY', None]\n",
      "40\n"
     ]
    }
   ],
   "source": [
    "print(list_new)\n",
    "print(len(list_new))"
   ]
  },
  {
   "cell_type": "code",
   "execution_count": null,
   "metadata": {},
   "outputs": [],
   "source": []
  }
 ],
 "metadata": {
  "kernelspec": {
   "display_name": "Python 3",
   "language": "python",
   "name": "python3"
  },
  "language_info": {
   "codemirror_mode": {
    "name": "ipython",
    "version": 3
   },
   "file_extension": ".py",
   "mimetype": "text/x-python",
   "name": "python",
   "nbconvert_exporter": "python",
   "pygments_lexer": "ipython3",
   "version": "3.6.5"
  }
 },
 "nbformat": 4,
 "nbformat_minor": 2
}
